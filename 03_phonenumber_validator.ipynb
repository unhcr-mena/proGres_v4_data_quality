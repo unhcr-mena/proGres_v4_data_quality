{
 "cells": [
  {
   "cell_type": "markdown",
   "metadata": {
    "tags": []
   },
   "source": [
    "# Checking quality of phone numbers"
   ]
  },
  {
   "cell_type": "code",
   "execution_count": 53,
   "metadata": {},
   "outputs": [
    {
     "data": {
      "text/plain": [
       "'\\nThis script can be used to check whether a given set of\\nphone numbers if possible and/or valid for a particular country\\nbased on libphonenumber (Google\\'s common Java, C++ and JavaScript library for \\nparsing, formatting, and validating international phone numbers.)\\nThis demo notebook uses a python third-party port available from:\\nhttps://github.com/google/libphonenumber\\n\\nThe country selected is Egypt with country code \"EG\"\\n'"
      ]
     },
     "execution_count": 53,
     "metadata": {},
     "output_type": "execute_result"
    }
   ],
   "source": [
    "'''\n",
    "This script can be used to check whether a given set of\n",
    "phone numbers if possible and/or valid for a particular country\n",
    "based on libphonenumber (Google's common Java, C++ and JavaScript library for \n",
    "parsing, formatting, and validating international phone numbers.)\n",
    "This demo notebook uses a python third-party port available from:\n",
    "https://github.com/google/libphonenumber\n",
    "\n",
    "The country selected is Egypt with country code \"EG\"\n",
    "'''"
   ]
  },
  {
   "cell_type": "markdown",
   "metadata": {
    "tags": []
   },
   "source": [
    "## 1. Notebook setup"
   ]
  },
  {
   "cell_type": "markdown",
   "metadata": {},
   "source": [
    "#### Import libraries needed"
   ]
  },
  {
   "cell_type": "code",
   "execution_count": 3,
   "metadata": {},
   "outputs": [],
   "source": [
    "import numpy as np\n",
    "import pandas as pd\n",
    "import pickle\n",
    "import datetime as datetime\n",
    "import pyodbc\n",
    "import urllib\n",
    "import sqlalchemy\n",
    "import requests\n",
    "import time\n",
    "import re\n",
    "pd.set_option('display.max_columns', None)\n",
    "pd.set_option('display.max_rows', None)\n",
    "pd.set_option('display.max_colwidth', 0)\n",
    "import phonenumbers"
   ]
  },
  {
   "cell_type": "markdown",
   "metadata": {},
   "source": [
    "#### Import table with phonenumbers"
   ]
  },
  {
   "cell_type": "code",
   "execution_count": 4,
   "metadata": {},
   "outputs": [],
   "source": [
    "# import individual table and filter for focal points only\n",
    "# dfi = pd.read_sql_query(\"SELECT {} FROM dbo.Filteredprogres_individual\".format(icol), db_connection)\n",
    "# dfi = dfi[dfi.progres_relationshiptofpname==\"Focal Point\"]\n",
    "\n",
    "# For this example, we will create a sample table with progres ids and phone numbers\n",
    "dfi = pd.DataFrame()\n",
    "dfi[\"progres_id\"] = [\"1\", \"2\", \"3\", \"4\" , \"5\" , \"6\"]\n",
    "dfi[\"progres_primaryphonenumber\"] = [\"111800938\", \"20111800938\", \n",
    "                                     \"1125078356\", \"201125078356\", \n",
    "                                     \"114973124\", \"152835755\"]\n"
   ]
  },
  {
   "cell_type": "code",
   "execution_count": 5,
   "metadata": {},
   "outputs": [
    {
     "data": {
      "text/html": [
       "<div>\n",
       "<style scoped>\n",
       "    .dataframe tbody tr th:only-of-type {\n",
       "        vertical-align: middle;\n",
       "    }\n",
       "\n",
       "    .dataframe tbody tr th {\n",
       "        vertical-align: top;\n",
       "    }\n",
       "\n",
       "    .dataframe thead th {\n",
       "        text-align: right;\n",
       "    }\n",
       "</style>\n",
       "<table border=\"1\" class=\"dataframe\">\n",
       "  <thead>\n",
       "    <tr style=\"text-align: right;\">\n",
       "      <th></th>\n",
       "      <th>progres_id</th>\n",
       "      <th>progres_primaryphonenumber</th>\n",
       "    </tr>\n",
       "  </thead>\n",
       "  <tbody>\n",
       "    <tr>\n",
       "      <th>0</th>\n",
       "      <td>1</td>\n",
       "      <td>111800938</td>\n",
       "    </tr>\n",
       "    <tr>\n",
       "      <th>1</th>\n",
       "      <td>2</td>\n",
       "      <td>20111800938</td>\n",
       "    </tr>\n",
       "    <tr>\n",
       "      <th>2</th>\n",
       "      <td>3</td>\n",
       "      <td>1125078356</td>\n",
       "    </tr>\n",
       "    <tr>\n",
       "      <th>3</th>\n",
       "      <td>4</td>\n",
       "      <td>201125078356</td>\n",
       "    </tr>\n",
       "    <tr>\n",
       "      <th>4</th>\n",
       "      <td>5</td>\n",
       "      <td>114973124</td>\n",
       "    </tr>\n",
       "    <tr>\n",
       "      <th>5</th>\n",
       "      <td>6</td>\n",
       "      <td>152835755</td>\n",
       "    </tr>\n",
       "  </tbody>\n",
       "</table>\n",
       "</div>"
      ],
      "text/plain": [
       "  progres_id progres_primaryphonenumber\n",
       "0  1          111800938                \n",
       "1  2          20111800938              \n",
       "2  3          1125078356               \n",
       "3  4          201125078356             \n",
       "4  5          114973124                \n",
       "5  6          152835755                "
      ]
     },
     "execution_count": 5,
     "metadata": {},
     "output_type": "execute_result"
    }
   ],
   "source": [
    "dfi"
   ]
  },
  {
   "cell_type": "markdown",
   "metadata": {},
   "source": [
    "## 2. Clean phone numbers as needed "
   ]
  },
  {
   "cell_type": "markdown",
   "metadata": {},
   "source": [
    "##### Depending on the kinds of irregularities found in the phone numbers field"
   ]
  },
  {
   "cell_type": "code",
   "execution_count": 6,
   "metadata": {},
   "outputs": [],
   "source": [
    "## If multiple phone numbers are listed, separated by various symbols:\n",
    "\n",
    "# dfi[\"split_phone\"] = dfi[\"progres_primaryphonenumber\"].apply(lambda x: x.split('*')[0] if x!=None else x)\n",
    "# dfi[\"split_phone\"] = dfi[\"split_phone\"].apply(lambda x: x.split('/')[0] if x!=None else x)\n",
    "# dfi[\"split_phone\"] = dfi[\"split_phone\"].apply(lambda x: x.split(',')[0] if x!=None else x)\n",
    "# dfi[\"split_phone\"] = dfi[\"split_phone\"].apply(lambda x: x.split(';')[0] if x!=None else x)\n",
    "# dfi[\"split_phone\"] = dfi[\"split_phone\"].apply(lambda x: x.strip('\\n') if x!=None else x)\n",
    "# dfi[\"split_phone\"] = dfi[\"split_phone\"].apply(lambda x: x.strip('\\t') if x!=None else x)\n",
    "# dfi[\"split_phone\"] = dfi[\"split_phone\"].apply(lambda x: x.split(' - ')[0] if x!=None and len(x.split(' - ')[0])>6 else x)\n",
    "# dfi[\"split_phone\"] = dfi[\"split_phone\"].apply(lambda x: x.split('-')[0] if x!=None and len(x.split('-')[0])>6 else x)\n",
    "# dfi[\"split_phone\"] = dfi[\"split_phone\"].apply(lambda x: x.replace('-','') if x!=None else x)\n",
    "# dfi[\"split_phone\"] = dfi[\"split_phone\"].apply(lambda x: x.replace('.','') if x!=None else x)\n",
    "# dfi[\"split_phone\"] = dfi[\"split_phone\"].apply(lambda x: x.replace(' ','') if x!=None else x)\n",
    "# dfi[\"split_phone_length\"]= dfi[\"split_phone\"].apply(lambda x: len(x) if x!=None else None)"
   ]
  },
  {
   "cell_type": "code",
   "execution_count": 7,
   "metadata": {},
   "outputs": [],
   "source": [
    "## Further cleaning as needed\n",
    "\n",
    "# dfi[\"cleaned_phone\"] = dfi[\"split_phone\"].apply(lambda x: x if x==None else( \n",
    "#                                                           x[4:] if x[:4]==\"+200\" else(\n",
    "#                                                            x[3:] if x[:3]==\"+20\" else(\n",
    "#                                                               x[1:] if x[:1]==\"0\" else x))))\n",
    "# dfi[\"cleaned_phone\"] = dfi[\"cleaned_phone\"].apply(lambda x: x.strip('\\n') if x!=None else x)\n",
    "# dfi[\"cleaned_phone\"] = dfi[\"cleaned_phone\"].apply(lambda x: x.strip('\\t') if x!=None else x)\n",
    "# dfi[\"cleaned_phone\"] = dfi[\"cleaned_phone\"].apply(lambda x: x.strip('`') if x!=None else x)\n",
    "# dfi[\"cleaned_phone\"] = dfi[\"cleaned_phone\"].apply(lambda x: x.split('@')[0] if x!=None else x)\n",
    "# dfi[\"cleaned_phone\"] = dfi[\"cleaned_phone\"].apply(lambda x: x.strip('`') if x!=None else x)\n",
    "# dfi[\"cleaned_phone\"] = dfi[\"cleaned_phone\"].apply(lambda x: re.sub(r'[!@#$(),\\n\"%^*?\\:;~`\\D]', '', x) if x!=None else None)\n",
    "# # re.sub(r'[!@#$(),\\n\"%^*?\\:;~`\\D]', '', '32423abdD+,;-/.343السويس')\n",
    "# dfi[\"cleaned_phone_length\"] = dfi[\"cleaned_phone\"].apply(lambda x: len(x) if x!=None else x)\n",
    "# dfi.cleaned_phone_length.value_counts(dropna=False)"
   ]
  },
  {
   "cell_type": "code",
   "execution_count": 8,
   "metadata": {},
   "outputs": [],
   "source": [
    "# Since we are using a \n",
    "dfi[\"cleaned_phone\"] = dfi[\"progres_primaryphonenumber\"]"
   ]
  },
  {
   "cell_type": "markdown",
   "metadata": {},
   "source": [
    "#### Function to check phone numbers"
   ]
  },
  {
   "cell_type": "code",
   "execution_count": 9,
   "metadata": {},
   "outputs": [],
   "source": [
    "def check_phone_number_possible_valid(dataframe, field_to_check, country_code):\n",
    "    '''\n",
    "    This function takes a table \"dataframe\" with a phone number field \"field_to_check\"\n",
    "    for country with code \"country_code\" and outputs a table that can tell us whether each field\n",
    "    is possible and/or valid for that country\n",
    "    '''\n",
    "    phones = pd.DataFrame()\n",
    "    for index in dataframe.index.tolist():\n",
    "        tempo = pd.DataFrame()\n",
    "        if dataframe.loc[index, field_to_check]!=None: \n",
    "            try:\n",
    "                x = phonenumbers.parse(dfi.loc[index,field_to_check], None)\n",
    "            except:\n",
    "                x = phonenumbers.parse(dfi.loc[index, field_to_check], country_code)\n",
    "            tempo.loc[index,\"phone_no\"] = dfi.loc[index, field_to_check]\n",
    "            tempo.loc[index,\"possible\"] = phonenumbers.is_possible_number(x)\n",
    "            tempo.loc[index,\"validity\"] = phonenumbers.is_valid_number(x)\n",
    "        else:\n",
    "            tempo.loc[index,\"phone_no\"] = dfi.loc[index, field_to_check]\n",
    "            tempo.loc[index,\"possible\"] = None\n",
    "            tempo.loc[index,\"validity\"] = None\n",
    "        phones = pd.concat([phones, tempo])\n",
    "        phones[\"phone_no_length\"] = phones[\"phone_no\"].apply(lambda x: len(x))\n",
    "    return phones"
   ]
  },
  {
   "cell_type": "markdown",
   "metadata": {},
   "source": [
    "#### Call the function"
   ]
  },
  {
   "cell_type": "code",
   "execution_count": 10,
   "metadata": {},
   "outputs": [],
   "source": [
    "phones_possible_valid = check_phone_number_possible_valid(dfi, \"cleaned_phone\", \"EG\")"
   ]
  },
  {
   "cell_type": "code",
   "execution_count": 11,
   "metadata": {},
   "outputs": [
    {
     "data": {
      "text/html": [
       "<div>\n",
       "<style scoped>\n",
       "    .dataframe tbody tr th:only-of-type {\n",
       "        vertical-align: middle;\n",
       "    }\n",
       "\n",
       "    .dataframe tbody tr th {\n",
       "        vertical-align: top;\n",
       "    }\n",
       "\n",
       "    .dataframe thead th {\n",
       "        text-align: right;\n",
       "    }\n",
       "</style>\n",
       "<table border=\"1\" class=\"dataframe\">\n",
       "  <thead>\n",
       "    <tr style=\"text-align: right;\">\n",
       "      <th></th>\n",
       "      <th>phone_no</th>\n",
       "      <th>possible</th>\n",
       "      <th>validity</th>\n",
       "      <th>phone_no_length</th>\n",
       "    </tr>\n",
       "  </thead>\n",
       "  <tbody>\n",
       "    <tr>\n",
       "      <th>0</th>\n",
       "      <td>111800938</td>\n",
       "      <td>True</td>\n",
       "      <td>False</td>\n",
       "      <td>9</td>\n",
       "    </tr>\n",
       "    <tr>\n",
       "      <th>1</th>\n",
       "      <td>20111800938</td>\n",
       "      <td>True</td>\n",
       "      <td>False</td>\n",
       "      <td>11</td>\n",
       "    </tr>\n",
       "    <tr>\n",
       "      <th>2</th>\n",
       "      <td>1125078356</td>\n",
       "      <td>True</td>\n",
       "      <td>True</td>\n",
       "      <td>10</td>\n",
       "    </tr>\n",
       "    <tr>\n",
       "      <th>3</th>\n",
       "      <td>201125078356</td>\n",
       "      <td>True</td>\n",
       "      <td>True</td>\n",
       "      <td>12</td>\n",
       "    </tr>\n",
       "    <tr>\n",
       "      <th>4</th>\n",
       "      <td>114973124</td>\n",
       "      <td>True</td>\n",
       "      <td>False</td>\n",
       "      <td>9</td>\n",
       "    </tr>\n",
       "    <tr>\n",
       "      <th>5</th>\n",
       "      <td>152835755</td>\n",
       "      <td>True</td>\n",
       "      <td>True</td>\n",
       "      <td>9</td>\n",
       "    </tr>\n",
       "  </tbody>\n",
       "</table>\n",
       "</div>"
      ],
      "text/plain": [
       "       phone_no possible validity  phone_no_length\n",
       "0  111800938     True     False    9              \n",
       "1  20111800938   True     False    11             \n",
       "2  1125078356    True     True     10             \n",
       "3  201125078356  True     True     12             \n",
       "4  114973124     True     False    9              \n",
       "5  152835755     True     True     9              "
      ]
     },
     "execution_count": 11,
     "metadata": {},
     "output_type": "execute_result"
    }
   ],
   "source": [
    "phones_possible_valid.head(6)"
   ]
  }
 ],
 "metadata": {
  "kernelspec": {
   "display_name": "phonenumber",
   "language": "python",
   "name": "phonenumber"
  },
  "language_info": {
   "codemirror_mode": {
    "name": "ipython",
    "version": 3
   },
   "file_extension": ".py",
   "mimetype": "text/x-python",
   "name": "python",
   "nbconvert_exporter": "python",
   "pygments_lexer": "ipython3",
   "version": "3.7.13"
  }
 },
 "nbformat": 4,
 "nbformat_minor": 4
}
