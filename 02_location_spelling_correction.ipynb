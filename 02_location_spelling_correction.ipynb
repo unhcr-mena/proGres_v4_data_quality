{
 "cells": [
  {
   "cell_type": "markdown",
   "metadata": {},
   "source": [
    "# proGres v4 Data Quality Script"
   ]
  },
  {
   "cell_type": "code",
   "execution_count": null,
   "metadata": {},
   "outputs": [],
   "source": [
    "'''\n",
    "This script can be used to suggest location name corrections\n",
    "based on list of official location names \n",
    "using the soundex and doublemetaphone algorithms\n",
    "'''"
   ]
  },
  {
   "cell_type": "markdown",
   "metadata": {},
   "source": [
    "# A. DEMO with sample data"
   ]
  },
  {
   "cell_type": "markdown",
   "metadata": {
    "tags": []
   },
   "source": [
    "## A.1. Notebook setup"
   ]
  },
  {
   "cell_type": "markdown",
   "metadata": {},
   "source": [
    "#### Import libraries needed"
   ]
  },
  {
   "cell_type": "code",
   "execution_count": 62,
   "metadata": {},
   "outputs": [],
   "source": [
    "import numpy as np\n",
    "import pandas as pd\n",
    "import pickle\n",
    "import datetime as datetime\n",
    "import pyodbc\n",
    "import urllib\n",
    "import sqlalchemy\n",
    "import requests\n",
    "import time\n",
    "\n",
    "pd.set_option('display.max_columns', None)\n",
    "pd.set_option('display.max_rows', None)\n",
    "pd.set_option('display.max_colwidth', 0)\n",
    "\n",
    "from metaphone import doublemetaphone\n",
    "from langdetect import detect, DetectorFactory\n",
    "DetectorFactory.seed = 0\n",
    "import re\n",
    "import fuzzy"
   ]
  },
  {
   "cell_type": "markdown",
   "metadata": {},
   "source": [
    "## A.2. Function to find substitutes"
   ]
  },
  {
   "cell_type": "code",
   "execution_count": 63,
   "metadata": {},
   "outputs": [],
   "source": [
    "def find_substitute(list_of_cities, correct_list, algorithm=doublemetaphone):\n",
    "    \n",
    "    # Get code for each city originally listed\n",
    "    city_list = []\n",
    "    code_city_list = []\n",
    "    for city in list_of_cities:\n",
    "        if city!=None:\n",
    "            orig_city = city.encode('ascii', 'ignore').decode('ascii')\n",
    "            if algorithm == \"soundex\":\n",
    "                alg = fuzzy.Soundex(4)\n",
    "                alg_city = alg(city.encode('ascii', 'ignore').decode('ascii'))\n",
    "            elif algorithm == \"metaphone\":\n",
    "                alg = doublemetaphone\n",
    "                alg_city = alg(city.encode('ascii', 'ignore').decode('ascii'))\n",
    "            else:\n",
    "                alg = doublemetaphone\n",
    "                alg_city = alg(city)\n",
    "            city_list.append(orig_city)\n",
    "            code_city_list.append(alg_city)\n",
    "        else:\n",
    "            city_list.append(city)\n",
    "            code_city_list.append(city)\n",
    "            \n",
    "    dict_city_code = dict(zip(city_list, code_city_list))\n",
    "    \n",
    "    # Get code for each correct city at the relevant level\n",
    "    correct_city_list = []\n",
    "    code_correct_city_list = []\n",
    "    for city in correct_list:\n",
    "        if city!=None:\n",
    "            city = re.sub(r'[!@#$(),\\n\"%^*?\\:;~`\\d]', '', city)\n",
    "            orig_city = city.encode('ascii', 'ignore').decode('ascii')\n",
    "            if algorithm == \"soundex\":\n",
    "                alg = fuzzy.Soundex(4)\n",
    "                alg_city = alg(city.encode('ascii', 'ignore').decode('ascii'))\n",
    "            elif algorithm == \"metaphone\":\n",
    "                alg = doublemetaphone\n",
    "                alg_city = alg(city)\n",
    "            else:\n",
    "                alg = doublemetaphone\n",
    "                alg_city = alg(city.encode('ascii', 'ignore').decode('ascii'))\n",
    "            correct_city_list.append(orig_city)\n",
    "            code_correct_city_list.append(alg_city)\n",
    "        else:\n",
    "            correct_city_list.append(city)\n",
    "            code_correct_city_list.append(city)\n",
    "    \n",
    "    dict_correct_code_city = dict(zip(code_correct_city_list, correct_city_list))\n",
    "\n",
    "    # print outputs directly\n",
    "#     # Match city name to potential correct city\n",
    "#     for city in city_list:\n",
    "#         if dict_city_code[city] in code_correct_city_list:\n",
    "#             print(city, dict_correct_code_city[dict_city_code[city]])\n",
    "#         else:\n",
    "#             print(city, \"no match found\")\n",
    "        \n",
    "    # Print outputs as a matched dataframe    \n",
    "    # Match city name to potential correct city\n",
    "    df_output_all = pd.DataFrame()\n",
    "    for city in city_list:\n",
    "        df_output = pd.DataFrame()\n",
    "        if dict_city_code[city] in code_correct_city_list:\n",
    "            df_output.loc[1,\"v4_name\"] = city\n",
    "            df_output.loc[1,\"v4_name_suggested\"] = dict_correct_code_city[dict_city_code[city]]\n",
    "        else:\n",
    "            df_output.loc[1,\"v4_name\"] = city\n",
    "            df_output.loc[1,\"v4_name_suggested\"] = \"No match found\"\n",
    "        df_output_all = pd.concat([df_output_all, df_output])\n",
    "    return df_output_all"
   ]
  },
  {
   "cell_type": "markdown",
   "metadata": {},
   "source": [
    "#### Sample birth cities and correct location names"
   ]
  },
  {
   "cell_type": "code",
   "execution_count": 65,
   "metadata": {},
   "outputs": [],
   "source": [
    "birth_cities = [\"qalubya\", \"faisal\", \"beni suef\" , \"qalubiya\", \"qaliobya\", \"qalupia\", \"bollakk el dakror\"]\n",
    "# birth_cities = dfi.progres_birthcityname.tolist()\n",
    "\n",
    "ocha_v4_cities = [\"Faysal\", \"Qalyub\", \"Bani Swayf City\", \"Bulaq Al-DakrUr\"]\n",
    "# ocha_v4_cities =  admin3_name_ocha"
   ]
  },
  {
   "cell_type": "code",
   "execution_count": 64,
   "metadata": {},
   "outputs": [],
   "source": [
    "### Sample 1 with metaphone"
   ]
  },
  {
   "cell_type": "code",
   "execution_count": 66,
   "metadata": {},
   "outputs": [
    {
     "data": {
      "text/html": [
       "<div>\n",
       "<style scoped>\n",
       "    .dataframe tbody tr th:only-of-type {\n",
       "        vertical-align: middle;\n",
       "    }\n",
       "\n",
       "    .dataframe tbody tr th {\n",
       "        vertical-align: top;\n",
       "    }\n",
       "\n",
       "    .dataframe thead th {\n",
       "        text-align: right;\n",
       "    }\n",
       "</style>\n",
       "<table border=\"1\" class=\"dataframe\">\n",
       "  <thead>\n",
       "    <tr style=\"text-align: right;\">\n",
       "      <th></th>\n",
       "      <th>v4_name</th>\n",
       "      <th>v4_name_suggested</th>\n",
       "    </tr>\n",
       "  </thead>\n",
       "  <tbody>\n",
       "    <tr>\n",
       "      <th>1</th>\n",
       "      <td>qalubya</td>\n",
       "      <td>Qalyub</td>\n",
       "    </tr>\n",
       "    <tr>\n",
       "      <th>1</th>\n",
       "      <td>faisal</td>\n",
       "      <td>Faysal</td>\n",
       "    </tr>\n",
       "    <tr>\n",
       "      <th>1</th>\n",
       "      <td>beni suef</td>\n",
       "      <td>No match found</td>\n",
       "    </tr>\n",
       "    <tr>\n",
       "      <th>1</th>\n",
       "      <td>qalubiya</td>\n",
       "      <td>Qalyub</td>\n",
       "    </tr>\n",
       "    <tr>\n",
       "      <th>1</th>\n",
       "      <td>qaliobya</td>\n",
       "      <td>Qalyub</td>\n",
       "    </tr>\n",
       "    <tr>\n",
       "      <th>1</th>\n",
       "      <td>qalupia</td>\n",
       "      <td>Qalyub</td>\n",
       "    </tr>\n",
       "    <tr>\n",
       "      <th>1</th>\n",
       "      <td>bollakk el dakror</td>\n",
       "      <td>No match found</td>\n",
       "    </tr>\n",
       "  </tbody>\n",
       "</table>\n",
       "</div>"
      ],
      "text/plain": [
       "             v4_name v4_name_suggested\n",
       "1  qalubya            Qalyub          \n",
       "1  faisal             Faysal          \n",
       "1  beni suef          No match found  \n",
       "1  qalubiya           Qalyub          \n",
       "1  qaliobya           Qalyub          \n",
       "1  qalupia            Qalyub          \n",
       "1  bollakk el dakror  No match found  "
      ]
     },
     "execution_count": 66,
     "metadata": {},
     "output_type": "execute_result"
    }
   ],
   "source": [
    "find_substitute(birth_cities,\n",
    "                ocha_v4_cities,\n",
    "               algorithm = \"metaphone\")"
   ]
  },
  {
   "cell_type": "code",
   "execution_count": 67,
   "metadata": {},
   "outputs": [],
   "source": [
    "### Sample 2 with soundex"
   ]
  },
  {
   "cell_type": "code",
   "execution_count": 69,
   "metadata": {},
   "outputs": [
    {
     "data": {
      "text/html": [
       "<div>\n",
       "<style scoped>\n",
       "    .dataframe tbody tr th:only-of-type {\n",
       "        vertical-align: middle;\n",
       "    }\n",
       "\n",
       "    .dataframe tbody tr th {\n",
       "        vertical-align: top;\n",
       "    }\n",
       "\n",
       "    .dataframe thead th {\n",
       "        text-align: right;\n",
       "    }\n",
       "</style>\n",
       "<table border=\"1\" class=\"dataframe\">\n",
       "  <thead>\n",
       "    <tr style=\"text-align: right;\">\n",
       "      <th></th>\n",
       "      <th>v4_name</th>\n",
       "      <th>v4_name_suggested</th>\n",
       "    </tr>\n",
       "  </thead>\n",
       "  <tbody>\n",
       "    <tr>\n",
       "      <th>1</th>\n",
       "      <td>qalubya</td>\n",
       "      <td>Qalyub</td>\n",
       "    </tr>\n",
       "    <tr>\n",
       "      <th>1</th>\n",
       "      <td>faisal</td>\n",
       "      <td>Faysal</td>\n",
       "    </tr>\n",
       "    <tr>\n",
       "      <th>1</th>\n",
       "      <td>beni suef</td>\n",
       "      <td>Bani Swayf City</td>\n",
       "    </tr>\n",
       "    <tr>\n",
       "      <th>1</th>\n",
       "      <td>qalubiya</td>\n",
       "      <td>Qalyub</td>\n",
       "    </tr>\n",
       "    <tr>\n",
       "      <th>1</th>\n",
       "      <td>qaliobya</td>\n",
       "      <td>Qalyub</td>\n",
       "    </tr>\n",
       "    <tr>\n",
       "      <th>1</th>\n",
       "      <td>qalupia</td>\n",
       "      <td>Qalyub</td>\n",
       "    </tr>\n",
       "    <tr>\n",
       "      <th>1</th>\n",
       "      <td>bollakk el dakror</td>\n",
       "      <td>Bulaq Al-DakrUr</td>\n",
       "    </tr>\n",
       "  </tbody>\n",
       "</table>\n",
       "</div>"
      ],
      "text/plain": [
       "             v4_name v4_name_suggested\n",
       "1  qalubya            Qalyub          \n",
       "1  faisal             Faysal          \n",
       "1  beni suef          Bani Swayf City \n",
       "1  qalubiya           Qalyub          \n",
       "1  qaliobya           Qalyub          \n",
       "1  qalupia            Qalyub          \n",
       "1  bollakk el dakror  Bulaq Al-DakrUr "
      ]
     },
     "execution_count": 69,
     "metadata": {},
     "output_type": "execute_result"
    }
   ],
   "source": [
    "find_substitute(birth_cities,  \n",
    "                ocha_v4_cities, \n",
    "                \"soundex\")"
   ]
  },
  {
   "cell_type": "markdown",
   "metadata": {},
   "source": [
    "## END OF DEMO"
   ]
  },
  {
   "cell_type": "markdown",
   "metadata": {},
   "source": [
    "# B. Get locations from Egypt and Syria and check for possible spelling corrections"
   ]
  },
  {
   "cell_type": "markdown",
   "metadata": {},
   "source": [
    "## B.1. Get list of location names from proGres"
   ]
  },
  {
   "cell_type": "markdown",
   "metadata": {
    "tags": []
   },
   "source": [
    "### Import proGres v4 Individual and Location Level Tables"
   ]
  },
  {
   "cell_type": "markdown",
   "metadata": {},
   "source": [
    "#### Load relevant column lists to be used with each table "
   ]
  },
  {
   "cell_type": "code",
   "execution_count": 3,
   "metadata": {},
   "outputs": [],
   "source": [
    "# load list of specific columns that will be relevant to quality checks \n",
    "with open ('icols_july.txt', 'rb') as fp:\n",
    "    icols = pickle.load(fp)\n",
    "\n",
    "# list of unique column names\n",
    "icols = list(set(icols))\n",
    "\n",
    "# convert column names from list to string for SQL\n",
    "icol = ','.join(icols)"
   ]
  },
  {
   "cell_type": "markdown",
   "metadata": {},
   "source": [
    "#### Connect to database"
   ]
  },
  {
   "cell_type": "code",
   "execution_count": 229,
   "metadata": {},
   "outputs": [],
   "source": [
    "# text1 = ''\n",
    "# text2 = ''\n",
    "saveFile = open('pwd.txt', 'r+')\n",
    "# saveFile.write(text1 + ',' + text2)\n",
    "# saveFile.seek(0)\n",
    "uap = saveFile.read()"
   ]
  },
  {
   "cell_type": "code",
   "execution_count": 230,
   "metadata": {},
   "outputs": [],
   "source": [
    "ip_of_server = \"**.***.**.**\"\n",
    "\n",
    "driver = 'SQL Server'\n",
    "ip = ip_of_server\n",
    "db_connection = pyodbc.connect(\n",
    "    driver = driver,\n",
    "    Server = ip,\n",
    "    Port = \"1433\",\n",
    "    Database = \"QualityCheck_Egypt\",\n",
    "    UID = uap.split(',')[0],\n",
    "    PWD = uap.split(',')[1])"
   ]
  },
  {
   "cell_type": "code",
   "execution_count": 231,
   "metadata": {},
   "outputs": [
    {
     "data": {
      "text/plain": [
       "['SQL Server']"
      ]
     },
     "execution_count": 231,
     "metadata": {},
     "output_type": "execute_result"
    }
   ],
   "source": [
    "# checking\n",
    "pyodbc.drivers()"
   ]
  },
  {
   "cell_type": "code",
   "execution_count": 232,
   "metadata": {},
   "outputs": [
    {
     "data": {
      "text/plain": [
       "pyodbc.Connection"
      ]
     },
     "execution_count": 232,
     "metadata": {},
     "output_type": "execute_result"
    }
   ],
   "source": [
    "# checking\n",
    "type(db_connection)"
   ]
  },
  {
   "cell_type": "markdown",
   "metadata": {},
   "source": [
    "#### Import v4 Individual table"
   ]
  },
  {
   "cell_type": "code",
   "execution_count": 233,
   "metadata": {},
   "outputs": [
    {
     "name": "stdout",
     "output_type": "stream",
     "text": [
      "<class 'pandas.core.frame.DataFrame'>\n",
      "RangeIndex: 290220 entries, 0 to 290219\n",
      "Data columns (total 55 columns):\n",
      " #   Column                             Non-Null Count   Dtype         \n",
      "---  ------                             --------------   -----         \n",
      " 0   progres_refugeestatus              290220 non-null  int64         \n",
      " 1   progres_educationlevelname         288184 non-null  object        \n",
      " 2   progres_coolocationlevel3name      70561 non-null   object        \n",
      " 3   progres_nationalitylookupname      290213 non-null  object        \n",
      " 4   progres_registrationreason         290220 non-null  int64         \n",
      " 5   progres_countryofasylumidname      290220 non-null  object        \n",
      " 6   progres_id                         290220 non-null  object        \n",
      " 7   progres_fathersname                285626 non-null  object        \n",
      " 8   progres_registrationdate           290220 non-null  datetime64[ns]\n",
      " 9   progres_givenname                  290215 non-null  object        \n",
      " 10  createdbyname                      290220 non-null  object        \n",
      " 11  progres_religionidname             290213 non-null  object        \n",
      " 12  progres_arrivaldate                290220 non-null  datetime64[ns]\n",
      " 13  progres_dateofbirth                290220 non-null  datetime64[ns]\n",
      " 14  progres_registrationreasonname     290220 non-null  object        \n",
      " 15  progres_coalocationlevel2name      288602 non-null  object        \n",
      " 16  progres_coolocationlevel1name      275032 non-null  object        \n",
      " 17  progres_hasphoto                   290220 non-null  bool          \n",
      " 18  progres_agecohortname              290220 non-null  object        \n",
      " 19  progres_placeofbirthcity           287646 non-null  object        \n",
      " 20  progres_refugeestatusname          290220 non-null  object        \n",
      " 21  progres_countryoforiginidname      290220 non-null  object        \n",
      " 22  progres_countryofasylumid          290220 non-null  object        \n",
      " 23  statuscodename                     290220 non-null  object        \n",
      " 24  createdon                          290220 non-null  datetime64[ns]\n",
      " 25  progres_businessunitname           290220 non-null  object        \n",
      " 26  progres_coalocationlevel1name      289867 non-null  object        \n",
      " 27  progres_nationalitylookup          290213 non-null  object        \n",
      " 28  progres_businessunit               290220 non-null  object        \n",
      " 29  progres_indvidualid                290220 non-null  object        \n",
      " 30  progres_maritalstatusname          290220 non-null  object        \n",
      " 31  progres_registrationgroupidname    290220 non-null  object        \n",
      " 32  progres_sexname                    290220 non-null  object        \n",
      " 33  modifiedon                         290220 non-null  datetime64[ns]\n",
      " 34  progres_refugeestatuscategoryname  279150 non-null  object        \n",
      " 35  progres_primaryphonenumber         271767 non-null  object        \n",
      " 36  progres_placeofbirthidname         290163 non-null  object        \n",
      " 37  progres_maritalstatus              290220 non-null  int64         \n",
      " 38  progres_relationshiptofpname       290218 non-null  object        \n",
      " 39  statuscode                         290220 non-null  int64         \n",
      " 40  progres_registrationgroupid        290220 non-null  object        \n",
      " 41  progres_biometricstatus            222761 non-null  object        \n",
      " 42  progres_deceaseddate               7 non-null       datetime64[ns]\n",
      " 43  progres_fleddate                   289526 non-null  datetime64[ns]\n",
      " 44  progres_isdeceased                 290220 non-null  bool          \n",
      " 45  progres_sex                        290220 non-null  int64         \n",
      " 46  progres_relationshiptofp           290218 non-null  object        \n",
      " 47  modifiedbyname                     290220 non-null  object        \n",
      " 48  progres_individualid               290220 non-null  object        \n",
      " 49  progres_age                        290220 non-null  int64         \n",
      " 50  progres_coalocationlevel3name      3344 non-null    object        \n",
      " 51  progres_coolocationlevel2name      197171 non-null  object        \n",
      " 52  progres_familyname                 290220 non-null  object        \n",
      " 53  progres_countryoforiginid          290220 non-null  object        \n",
      " 54  progres_ethnicityidname            290138 non-null  object        \n",
      "dtypes: bool(2), datetime64[ns](7), int64(6), object(40)\n",
      "memory usage: 117.9+ MB\n"
     ]
    }
   ],
   "source": [
    "dfi = pd.read_sql_query(\"SELECT {} FROM dbo.Filteredprogres_individual\".format(icol), db_connection)\n",
    "dfi.info()"
   ]
  },
  {
   "cell_type": "markdown",
   "metadata": {},
   "source": [
    "#### Filter for active and hold and Business Unit in MENA"
   ]
  },
  {
   "cell_type": "code",
   "execution_count": 234,
   "metadata": {},
   "outputs": [
    {
     "data": {
      "text/html": [
       "<div>\n",
       "<style scoped>\n",
       "    .dataframe tbody tr th:only-of-type {\n",
       "        vertical-align: middle;\n",
       "    }\n",
       "\n",
       "    .dataframe tbody tr th {\n",
       "        vertical-align: top;\n",
       "    }\n",
       "\n",
       "    .dataframe thead th {\n",
       "        text-align: right;\n",
       "    }\n",
       "</style>\n",
       "<table border=\"1\" class=\"dataframe\">\n",
       "  <thead>\n",
       "    <tr style=\"text-align: right;\">\n",
       "      <th></th>\n",
       "      <th></th>\n",
       "      <th>progres_individualid</th>\n",
       "    </tr>\n",
       "    <tr>\n",
       "      <th>statuscode</th>\n",
       "      <th>statuscodename</th>\n",
       "      <th></th>\n",
       "    </tr>\n",
       "  </thead>\n",
       "  <tbody>\n",
       "    <tr>\n",
       "      <th>1</th>\n",
       "      <th>Active</th>\n",
       "      <td>290178</td>\n",
       "    </tr>\n",
       "    <tr>\n",
       "      <th>125080000</th>\n",
       "      <th>Hold</th>\n",
       "      <td>42</td>\n",
       "    </tr>\n",
       "  </tbody>\n",
       "</table>\n",
       "</div>"
      ],
      "text/plain": [
       "                           progres_individualid\n",
       "statuscode statuscodename                      \n",
       "1          Active          290178              \n",
       "125080000  Hold            42                  "
      ]
     },
     "execution_count": 234,
     "metadata": {},
     "output_type": "execute_result"
    }
   ],
   "source": [
    "dfi[[\"statuscode\" , \"statuscodename\", \"progres_individualid\"]].groupby([\"statuscode\" , \"statuscodename\"], dropna=False).count()"
   ]
  },
  {
   "cell_type": "code",
   "execution_count": 235,
   "metadata": {},
   "outputs": [
    {
     "data": {
      "text/plain": [
       "(290220, 55)"
      ]
     },
     "execution_count": 235,
     "metadata": {},
     "output_type": "execute_result"
    }
   ],
   "source": [
    "# Filter for statuscode [1, 125080000] \n",
    "# which correspond to statuscodename [Active, Hold] respectively\n",
    "dfi = dfi[dfi.statuscode.isin([1, 125080000])]\n",
    "dfi.shape"
   ]
  },
  {
   "cell_type": "code",
   "execution_count": 236,
   "metadata": {},
   "outputs": [],
   "source": [
    "# Only keep MENA business units"
   ]
  },
  {
   "cell_type": "code",
   "execution_count": 237,
   "metadata": {},
   "outputs": [],
   "source": [
    "list_mena_bu = ['Mauritania - Bassikounou',\n",
    "                'Mauritania - Urban',\n",
    "                'Tunisia - CO',\n",
    "                'Egypt - CO',\n",
    "                'Lebanon - North',\n",
    "                'Lebanon - BML',\n",
    "                'Lebanon - South',\n",
    "                'Lebanon - Bekaa',\n",
    "                'Algeria - CO',\n",
    "                'Iraq - CO',\n",
    "                'Israel - CO',\n",
    "                'Jordan - Camps',\n",
    "                'Jordan - Urban',\n",
    "                'Kuwait - CO',\n",
    "                'Morocco - CO',\n",
    "                'RO Riyadh',\n",
    "                'Syria - CO',\n",
    "                'UAE - CO']"
   ]
  },
  {
   "cell_type": "code",
   "execution_count": 238,
   "metadata": {},
   "outputs": [],
   "source": [
    "# dfi[[\"progres_businessunit\" , \n",
    "#      \"progres_businessunitname\", \n",
    "#      \"progres_individualid\"]].groupby([\"progres_businessunit\" , \n",
    "#                                        \"progres_businessunitname\"], dropna=False).count()"
   ]
  },
  {
   "cell_type": "code",
   "execution_count": 239,
   "metadata": {},
   "outputs": [
    {
     "data": {
      "text/plain": [
       "(290220, 55)"
      ]
     },
     "execution_count": 239,
     "metadata": {},
     "output_type": "execute_result"
    }
   ],
   "source": [
    "dfi = dfi[dfi.progres_businessunitname.isin(list_mena_bu)]\n",
    "dfi.shape"
   ]
  },
  {
   "cell_type": "markdown",
   "metadata": {
    "tags": [],
    "toc-hr-collapsed": true
   },
   "source": [
    "#### Check for and remove any duplicated entries"
   ]
  },
  {
   "cell_type": "code",
   "execution_count": 240,
   "metadata": {},
   "outputs": [
    {
     "data": {
      "text/html": [
       "<div>\n",
       "<style scoped>\n",
       "    .dataframe tbody tr th:only-of-type {\n",
       "        vertical-align: middle;\n",
       "    }\n",
       "\n",
       "    .dataframe tbody tr th {\n",
       "        vertical-align: top;\n",
       "    }\n",
       "\n",
       "    .dataframe thead th {\n",
       "        text-align: right;\n",
       "    }\n",
       "</style>\n",
       "<table border=\"1\" class=\"dataframe\">\n",
       "  <thead>\n",
       "    <tr style=\"text-align: right;\">\n",
       "      <th></th>\n",
       "      <th>progres_refugeestatus</th>\n",
       "      <th>progres_educationlevelname</th>\n",
       "      <th>progres_coolocationlevel3name</th>\n",
       "      <th>progres_nationalitylookupname</th>\n",
       "      <th>progres_registrationreason</th>\n",
       "      <th>progres_countryofasylumidname</th>\n",
       "      <th>progres_id</th>\n",
       "      <th>progres_fathersname</th>\n",
       "      <th>progres_registrationdate</th>\n",
       "      <th>progres_givenname</th>\n",
       "      <th>createdbyname</th>\n",
       "      <th>progres_religionidname</th>\n",
       "      <th>progres_arrivaldate</th>\n",
       "      <th>progres_dateofbirth</th>\n",
       "      <th>progres_registrationreasonname</th>\n",
       "      <th>progres_coalocationlevel2name</th>\n",
       "      <th>progres_coolocationlevel1name</th>\n",
       "      <th>progres_hasphoto</th>\n",
       "      <th>progres_agecohortname</th>\n",
       "      <th>progres_placeofbirthcity</th>\n",
       "      <th>progres_refugeestatusname</th>\n",
       "      <th>progres_countryoforiginidname</th>\n",
       "      <th>progres_countryofasylumid</th>\n",
       "      <th>statuscodename</th>\n",
       "      <th>createdon</th>\n",
       "      <th>progres_businessunitname</th>\n",
       "      <th>progres_coalocationlevel1name</th>\n",
       "      <th>progres_nationalitylookup</th>\n",
       "      <th>progres_businessunit</th>\n",
       "      <th>progres_indvidualid</th>\n",
       "      <th>progres_maritalstatusname</th>\n",
       "      <th>progres_registrationgroupidname</th>\n",
       "      <th>progres_sexname</th>\n",
       "      <th>modifiedon</th>\n",
       "      <th>progres_refugeestatuscategoryname</th>\n",
       "      <th>progres_primaryphonenumber</th>\n",
       "      <th>progres_placeofbirthidname</th>\n",
       "      <th>progres_maritalstatus</th>\n",
       "      <th>progres_relationshiptofpname</th>\n",
       "      <th>statuscode</th>\n",
       "      <th>progres_registrationgroupid</th>\n",
       "      <th>progres_biometricstatus</th>\n",
       "      <th>progres_deceaseddate</th>\n",
       "      <th>progres_fleddate</th>\n",
       "      <th>progres_isdeceased</th>\n",
       "      <th>progres_sex</th>\n",
       "      <th>progres_relationshiptofp</th>\n",
       "      <th>modifiedbyname</th>\n",
       "      <th>progres_individualid</th>\n",
       "      <th>progres_age</th>\n",
       "      <th>progres_coalocationlevel3name</th>\n",
       "      <th>progres_coolocationlevel2name</th>\n",
       "      <th>progres_familyname</th>\n",
       "      <th>progres_countryoforiginid</th>\n",
       "      <th>progres_ethnicityidname</th>\n",
       "    </tr>\n",
       "  </thead>\n",
       "  <tbody>\n",
       "  </tbody>\n",
       "</table>\n",
       "</div>"
      ],
      "text/plain": [
       "Empty DataFrame\n",
       "Columns: [progres_refugeestatus, progres_educationlevelname, progres_coolocationlevel3name, progres_nationalitylookupname, progres_registrationreason, progres_countryofasylumidname, progres_id, progres_fathersname, progres_registrationdate, progres_givenname, createdbyname, progres_religionidname, progres_arrivaldate, progres_dateofbirth, progres_registrationreasonname, progres_coalocationlevel2name, progres_coolocationlevel1name, progres_hasphoto, progres_agecohortname, progres_placeofbirthcity, progres_refugeestatusname, progres_countryoforiginidname, progres_countryofasylumid, statuscodename, createdon, progres_businessunitname, progres_coalocationlevel1name, progres_nationalitylookup, progres_businessunit, progres_indvidualid, progres_maritalstatusname, progres_registrationgroupidname, progres_sexname, modifiedon, progres_refugeestatuscategoryname, progres_primaryphonenumber, progres_placeofbirthidname, progres_maritalstatus, progres_relationshiptofpname, statuscode, progres_registrationgroupid, progres_biometricstatus, progres_deceaseddate, progres_fleddate, progres_isdeceased, progres_sex, progres_relationshiptofp, modifiedbyname, progres_individualid, progres_age, progres_coalocationlevel3name, progres_coolocationlevel2name, progres_familyname, progres_countryoforiginid, progres_ethnicityidname]\n",
       "Index: []"
      ]
     },
     "execution_count": 240,
     "metadata": {},
     "output_type": "execute_result"
    }
   ],
   "source": [
    "dfi[dfi.duplicated(keep=False)].head()"
   ]
  },
  {
   "cell_type": "markdown",
   "metadata": {},
   "source": [
    "#### Import v4 combined ocha v4 data"
   ]
  },
  {
   "cell_type": "code",
   "execution_count": 16,
   "metadata": {},
   "outputs": [],
   "source": [
    "coa_addresses = pd.read_sql_query(\"SELECT * FROM dbo.Egypt_locations\",\n",
    "                                  db_connection)"
   ]
  },
  {
   "cell_type": "code",
   "execution_count": 17,
   "metadata": {},
   "outputs": [
    {
     "data": {
      "text/plain": [
       "(6216, 17)"
      ]
     },
     "execution_count": 17,
     "metadata": {},
     "output_type": "execute_result"
    }
   ],
   "source": [
    "coa_addresses.shape"
   ]
  },
  {
   "cell_type": "code",
   "execution_count": 18,
   "metadata": {},
   "outputs": [],
   "source": [
    "\n",
    "coo_addresses = pd.read_sql_query(\"SELECT * FROM dbo.Syria_locations\",\n",
    "                                  db_connection)"
   ]
  },
  {
   "cell_type": "code",
   "execution_count": 19,
   "metadata": {},
   "outputs": [
    {
     "data": {
      "text/plain": [
       "(5746, 17)"
      ]
     },
     "execution_count": 19,
     "metadata": {},
     "output_type": "execute_result"
    }
   ],
   "source": [
    "coo_addresses.shape"
   ]
  },
  {
   "cell_type": "markdown",
   "metadata": {},
   "source": [
    "## B.2. Get list of official location names and location names in proGres"
   ]
  },
  {
   "cell_type": "code",
   "execution_count": 20,
   "metadata": {},
   "outputs": [],
   "source": [
    "coa_matched = coa_addresses[\n",
    "                            (~coa_addresses.admin1_pcode_ocha.isna())  # & # if null, this pcode exists in v4 but not in OCHA\n",
    "                            # (~coa_addresses.progres_locationlevel.isna())  # if null, this pcode exists in OCHA but not in v4 ( can comment out to include these if we're checking the levels also)\n",
    "                            ]\n",
    "coo_matched = coo_addresses[\n",
    "                            (~coo_addresses.admin1_pcode_ocha.isna())  # & # if null, this pcode exists in v4 but not in OCHA\n",
    "                            # (~coo_addresses.len_pcode_v1.isna())  # if null, this pcode exists in v4 but not in OCHA ( cam comment out to include this if we're checking the levels also)\n",
    "                            ]"
   ]
  },
  {
   "cell_type": "code",
   "execution_count": 21,
   "metadata": {},
   "outputs": [
    {
     "data": {
      "text/html": [
       "<div>\n",
       "<style scoped>\n",
       "    .dataframe tbody tr th:only-of-type {\n",
       "        vertical-align: middle;\n",
       "    }\n",
       "\n",
       "    .dataframe tbody tr th {\n",
       "        vertical-align: top;\n",
       "    }\n",
       "\n",
       "    .dataframe thead th {\n",
       "        text-align: right;\n",
       "    }\n",
       "</style>\n",
       "<table border=\"1\" class=\"dataframe\">\n",
       "  <thead>\n",
       "    <tr style=\"text-align: right;\">\n",
       "      <th></th>\n",
       "      <th>progres_countryidname</th>\n",
       "      <th>progres_locationlevel</th>\n",
       "      <th>progres_level</th>\n",
       "      <th>progres_code</th>\n",
       "      <th>ocha_v4_pcode</th>\n",
       "      <th>admin3_name_ocha</th>\n",
       "      <th>admin3_name_ar_ocha</th>\n",
       "      <th>admin3_pcode_ocha</th>\n",
       "      <th>admin2_name_ocha</th>\n",
       "      <th>admin2_name_ar_ocha</th>\n",
       "      <th>admin2_pcode_ocha</th>\n",
       "      <th>admin1_name_ocha</th>\n",
       "      <th>admin1_name_ar_ocha</th>\n",
       "      <th>admin1_pcode_ocha</th>\n",
       "      <th>admin0_name_ocha</th>\n",
       "      <th>admin0_name_ar_ocha</th>\n",
       "      <th>admi0_pcode_ocha</th>\n",
       "    </tr>\n",
       "  </thead>\n",
       "  <tbody>\n",
       "    <tr>\n",
       "      <th>0</th>\n",
       "      <td>Syrian Arab Republic</td>\n",
       "      <td>Damascus</td>\n",
       "      <td>1.0</td>\n",
       "      <td>21SYR001</td>\n",
       "      <td>SY01</td>\n",
       "      <td>None</td>\n",
       "      <td>None</td>\n",
       "      <td>None</td>\n",
       "      <td>None</td>\n",
       "      <td>None</td>\n",
       "      <td>None</td>\n",
       "      <td>Damascus</td>\n",
       "      <td>????</td>\n",
       "      <td>SY01</td>\n",
       "      <td>Syrian Arab Republic</td>\n",
       "      <td>????????? ??????? ???????</td>\n",
       "      <td>SY</td>\n",
       "    </tr>\n",
       "    <tr>\n",
       "      <th>1</th>\n",
       "      <td>Syrian Arab Republic</td>\n",
       "      <td>Aleppo</td>\n",
       "      <td>1.0</td>\n",
       "      <td>21SYR002</td>\n",
       "      <td>SY02</td>\n",
       "      <td>None</td>\n",
       "      <td>None</td>\n",
       "      <td>None</td>\n",
       "      <td>None</td>\n",
       "      <td>None</td>\n",
       "      <td>None</td>\n",
       "      <td>Aleppo</td>\n",
       "      <td>???</td>\n",
       "      <td>SY02</td>\n",
       "      <td>Syrian Arab Republic</td>\n",
       "      <td>????????? ??????? ???????</td>\n",
       "      <td>SY</td>\n",
       "    </tr>\n",
       "    <tr>\n",
       "      <th>2</th>\n",
       "      <td>Syrian Arab Republic</td>\n",
       "      <td>Rural Damascus</td>\n",
       "      <td>1.0</td>\n",
       "      <td>21SYR003</td>\n",
       "      <td>SY03</td>\n",
       "      <td>None</td>\n",
       "      <td>None</td>\n",
       "      <td>None</td>\n",
       "      <td>None</td>\n",
       "      <td>None</td>\n",
       "      <td>None</td>\n",
       "      <td>Rural Damascus</td>\n",
       "      <td>??? ????</td>\n",
       "      <td>SY03</td>\n",
       "      <td>Syrian Arab Republic</td>\n",
       "      <td>????????? ??????? ???????</td>\n",
       "      <td>SY</td>\n",
       "    </tr>\n",
       "    <tr>\n",
       "      <th>3</th>\n",
       "      <td>Syrian Arab Republic</td>\n",
       "      <td>Homs</td>\n",
       "      <td>1.0</td>\n",
       "      <td>21SYR004</td>\n",
       "      <td>SY04</td>\n",
       "      <td>None</td>\n",
       "      <td>None</td>\n",
       "      <td>None</td>\n",
       "      <td>None</td>\n",
       "      <td>None</td>\n",
       "      <td>None</td>\n",
       "      <td>Homs</td>\n",
       "      <td>???</td>\n",
       "      <td>SY04</td>\n",
       "      <td>Syrian Arab Republic</td>\n",
       "      <td>????????? ??????? ???????</td>\n",
       "      <td>SY</td>\n",
       "    </tr>\n",
       "    <tr>\n",
       "      <th>4</th>\n",
       "      <td>Syrian Arab Republic</td>\n",
       "      <td>Hama</td>\n",
       "      <td>1.0</td>\n",
       "      <td>21SYR005</td>\n",
       "      <td>SY05</td>\n",
       "      <td>None</td>\n",
       "      <td>None</td>\n",
       "      <td>None</td>\n",
       "      <td>None</td>\n",
       "      <td>None</td>\n",
       "      <td>None</td>\n",
       "      <td>Hama</td>\n",
       "      <td>????</td>\n",
       "      <td>SY05</td>\n",
       "      <td>Syrian Arab Republic</td>\n",
       "      <td>????????? ??????? ???????</td>\n",
       "      <td>SY</td>\n",
       "    </tr>\n",
       "  </tbody>\n",
       "</table>\n",
       "</div>"
      ],
      "text/plain": [
       "  progres_countryidname progres_locationlevel  progres_level progres_code  \\\n",
       "0  Syrian Arab Republic  Damascus              1.0            21SYR001      \n",
       "1  Syrian Arab Republic  Aleppo                1.0            21SYR002      \n",
       "2  Syrian Arab Republic  Rural Damascus        1.0            21SYR003      \n",
       "3  Syrian Arab Republic  Homs                  1.0            21SYR004      \n",
       "4  Syrian Arab Republic  Hama                  1.0            21SYR005      \n",
       "\n",
       "  ocha_v4_pcode admin3_name_ocha admin3_name_ar_ocha admin3_pcode_ocha  \\\n",
       "0  SY01          None             None                None               \n",
       "1  SY02          None             None                None               \n",
       "2  SY03          None             None                None               \n",
       "3  SY04          None             None                None               \n",
       "4  SY05          None             None                None               \n",
       "\n",
       "  admin2_name_ocha admin2_name_ar_ocha admin2_pcode_ocha admin1_name_ocha  \\\n",
       "0  None             None                None              Damascus          \n",
       "1  None             None                None              Aleppo            \n",
       "2  None             None                None              Rural Damascus    \n",
       "3  None             None                None              Homs              \n",
       "4  None             None                None              Hama              \n",
       "\n",
       "  admin1_name_ar_ocha admin1_pcode_ocha      admin0_name_ocha  \\\n",
       "0  ????                SY01              Syrian Arab Republic   \n",
       "1  ???                 SY02              Syrian Arab Republic   \n",
       "2  ??? ????            SY03              Syrian Arab Republic   \n",
       "3  ???                 SY04              Syrian Arab Republic   \n",
       "4  ????                SY05              Syrian Arab Republic   \n",
       "\n",
       "         admin0_name_ar_ocha admi0_pcode_ocha  \n",
       "0  ????????? ??????? ???????  SY               \n",
       "1  ????????? ??????? ???????  SY               \n",
       "2  ????????? ??????? ???????  SY               \n",
       "3  ????????? ??????? ???????  SY               \n",
       "4  ????????? ??????? ???????  SY               "
      ]
     },
     "execution_count": 21,
     "metadata": {},
     "output_type": "execute_result"
    }
   ],
   "source": [
    "coo_matched.head()"
   ]
  },
  {
   "cell_type": "code",
   "execution_count": 22,
   "metadata": {},
   "outputs": [],
   "source": [
    "\n",
    "coa_names_1 = coa_matched[coa_matched.progres_level == 1].progres_locationlevel.unique().tolist()\n",
    "coa_names_1_ocha = coa_matched[coa_matched.progres_level == 1].admin1_name_ocha.unique().tolist()\n",
    "\n",
    "coa_names_2 = coa_matched[coa_matched.progres_level == 2].progres_locationlevel.unique().tolist()\n",
    "coa_names_2_ocha = coa_matched[coa_matched.progres_level == 2].admin2_name_ocha.unique().tolist()\n",
    "\n",
    "coa_names_3 = coa_matched[coa_matched.progres_level == 3].progres_locationlevel.unique().tolist()\n",
    "coa_names_3_ocha = coa_matched[coa_matched.progres_level == 3].admin3_name_ocha.unique().tolist()\n",
    "\n",
    "coo_names_1 = coo_matched[coo_matched.progres_level == 1].progres_locationlevel.unique().tolist()\n",
    "coo_names_1_ocha = coo_matched[coo_matched.progres_level == 1].admin1_name_ocha.unique().tolist()\n",
    "\n",
    "coo_names_2 = coo_matched[coo_matched.progres_level == 2].progres_locationlevel.unique().tolist()\n",
    "coo_names_2_ocha = coo_matched[coo_matched.progres_level == 2].admin2_name_ocha.unique().tolist()\n",
    "\n",
    "coo_names_3 = coo_matched[coo_matched.progres_level == 3].progres_locationlevel.unique().tolist()\n",
    "coo_names_3_ocha = coo_matched[coo_matched.progres_level == 3].admin3_name_ocha.unique().tolist()"
   ]
  },
  {
   "cell_type": "code",
   "execution_count": 508,
   "metadata": {},
   "outputs": [],
   "source": [
    "all_egypt_locations = list(set(coa_names_1 +\n",
    "                               coa_names_1_ocha + \n",
    "                               coa_names_2 +\n",
    "                               coa_names_2_ocha + \n",
    "                               coa_names_3 +\n",
    "                               coa_names_3_ocha))\n",
    "\n",
    "all_syria_locations = list(set(coo_names_1 +\n",
    "                               coo_names_1_ocha + \n",
    "                               coo_names_2 +\n",
    "                               coo_names_2_ocha + \n",
    "                               coo_names_3 +\n",
    "                               coo_names_3_ocha))"
   ]
  },
  {
   "cell_type": "code",
   "execution_count": 23,
   "metadata": {},
   "outputs": [
    {
     "data": {
      "text/plain": [
       "['<Null>']"
      ]
     },
     "execution_count": 23,
     "metadata": {},
     "output_type": "execute_result"
    }
   ],
   "source": [
    "coa_names_3_ocha"
   ]
  },
  {
   "cell_type": "code",
   "execution_count": 249,
   "metadata": {},
   "outputs": [
    {
     "name": "stdout",
     "output_type": "stream",
     "text": [
      "14 62 271\n"
     ]
    }
   ],
   "source": [
    "print(len(coo_names_1_ocha), len(coo_names_2_ocha), len(coo_names_3_ocha))"
   ]
  },
  {
   "cell_type": "code",
   "execution_count": 250,
   "metadata": {},
   "outputs": [
    {
     "name": "stdout",
     "output_type": "stream",
     "text": [
      "14 62 346\n"
     ]
    }
   ],
   "source": [
    "print(len(coo_names_1), len(coo_names_2), len(coo_names_3))"
   ]
  },
  {
   "cell_type": "code",
   "execution_count": 251,
   "metadata": {},
   "outputs": [
    {
     "name": "stdout",
     "output_type": "stream",
     "text": [
      "27 331 1\n"
     ]
    }
   ],
   "source": [
    "# level 3 in english didn't exist in ocha list\n",
    "print(len(coa_names_1_ocha), len(coa_names_2_ocha), len(coa_names_3_ocha))"
   ]
  },
  {
   "cell_type": "code",
   "execution_count": 252,
   "metadata": {},
   "outputs": [
    {
     "name": "stdout",
     "output_type": "stream",
     "text": [
      "27 356 786\n"
     ]
    }
   ],
   "source": [
    "print(len(coa_names_1), len(coa_names_2), len(coa_names_3))"
   ]
  },
  {
   "cell_type": "markdown",
   "metadata": {},
   "source": [
    "#### Syria L1 L2 L3"
   ]
  },
  {
   "cell_type": "code",
   "execution_count": 291,
   "metadata": {},
   "outputs": [
    {
     "data": {
      "text/plain": [
       "(144714, 55)"
      ]
     },
     "execution_count": 291,
     "metadata": {},
     "output_type": "execute_result"
    }
   ],
   "source": [
    "dfisy = dfi[(dfi.progres_countryoforiginidname==\"Syrian Arab Republic\") \\\n",
    "            # &\n",
    "           # (dfi.progres_relationshiptofpname==\"Focal Point\")\n",
    "           ]\n",
    "dfisy.shape"
   ]
  },
  {
   "cell_type": "code",
   "execution_count": 295,
   "metadata": {},
   "outputs": [],
   "source": [
    "def classify_as_unknown(df_to_check_for_unknowns):\n",
    "    '''\n",
    "    irregularity if focal point progres location level names don't match \n",
    "    1) the names in OCHA \n",
    "    OR \n",
    "    2) the names in the location level table in proGres v4 (matched against ocha pcodes)\n",
    "    '''\n",
    "    \n",
    "    df = df_to_check_for_unknowns.copy()\n",
    "    \n",
    "    # including progres names\n",
    "    df.loc[:,\"syr_l1\"] = df.progres_coolocationlevel1name.apply(lambda x: \"Unknown\" if x not in list(set(coo_names_1 + coo_names_1_ocha)) else x)\n",
    "    df.loc[:,\"syr_l2\"] = df.progres_coolocationlevel2name.apply(lambda x: \"Unknown\" if x not in list(set(coo_names_2 + coo_names_2_ocha)) else x)\n",
    "    df.loc[:,\"syr_l3\"] = df.progres_coolocationlevel3name.apply(lambda x: \"Unknown\" if x not in list(set(coo_names_3 + coo_names_3_ocha)) else x)\n",
    "    \n",
    "    # # excluding progres names\n",
    "    # df.loc[:,\"syr_l1\"] = df.progres_coolocationlevel1name.apply(lambda x: \"Unknown\" if x not in list(set(coo_names_1_ocha)) else x)\n",
    "    # df.loc[:,\"syr_l2\"] = df.progres_coolocationlevel2name.apply(lambda x: \"Unknown\" if x not in list(set(coo_names_2_ocha)) else x)\n",
    "    # df.loc[:,\"syr_l3\"] = df.progres_coolocationlevel3name.apply(lambda x: \"Unknown\" if x not in list(set(coo_names_3_ocha)) else x)\n",
    "    \n",
    "    return df\n"
   ]
  },
  {
   "cell_type": "code",
   "execution_count": 296,
   "metadata": {},
   "outputs": [
    {
     "data": {
      "text/plain": [
       "(144714, 58)"
      ]
     },
     "execution_count": 296,
     "metadata": {},
     "output_type": "execute_result"
    }
   ],
   "source": [
    "dfisy = classify_as_unknown(dfisy)\n",
    "dfisy.shape"
   ]
  },
  {
   "cell_type": "code",
   "execution_count": 300,
   "metadata": {},
   "outputs": [],
   "source": [
    "syr_level1= dfisy[(dfisy.syr_l1==\"Unknown\")&(dfisy.progres_coolocationlevel1name!=None)].progres_coolocationlevel1name.unique().tolist()"
   ]
  },
  {
   "cell_type": "code",
   "execution_count": 301,
   "metadata": {},
   "outputs": [],
   "source": [
    "syr_level2= dfisy[(dfisy.syr_l2==\"Unknown\")&(dfisy.progres_coolocationlevel2name!=None)].progres_coolocationlevel2name.unique().tolist()"
   ]
  },
  {
   "cell_type": "code",
   "execution_count": 302,
   "metadata": {},
   "outputs": [],
   "source": [
    "syr_level3= dfisy[(dfisy.syr_l3==\"Unknown\")&(dfisy.progres_coolocationlevel3name!=None)].progres_coolocationlevel3name.unique().tolist()"
   ]
  },
  {
   "cell_type": "code",
   "execution_count": 303,
   "metadata": {},
   "outputs": [
    {
     "name": "stdout",
     "output_type": "stream",
     "text": [
      "11 5 45\n"
     ]
    }
   ],
   "source": [
    "print(len(syr_level1), len(syr_level2), len(syr_level3))"
   ]
  },
  {
   "cell_type": "markdown",
   "metadata": {},
   "source": [
    "#### Egypt L1 L2 L3"
   ]
  },
  {
   "cell_type": "code",
   "execution_count": 304,
   "metadata": {},
   "outputs": [],
   "source": [
    "def coa_classify_as_unknown(df):\n",
    "    '''\n",
    "    irregularity if focal point progres location level names don't match \n",
    "    1) either the names in OCHA OR \n",
    "    2) the names in the location level table in proGres v4 (matched against ocha pcodes)\n",
    "    '''\n",
    "    # including progres v4 names\n",
    "    df.loc[:,\"coa_l1\"] = df.progres_coalocationlevel1name.apply(lambda x: \"Unknown\" if x not in list(set(coa_names_1 + coa_names_1_ocha)) or x==None else x)\n",
    "    df.loc[:,\"coa_l2\"] = df.progres_coalocationlevel2name.apply(lambda x: \"Unknown\" if x not in list(set(coa_names_2 + coa_names_2_ocha)) or x==None else x)\n",
    "    df.loc[:,\"coa_l3\"] = df.progres_coalocationlevel3name.apply(lambda x: \"Unknown\" if x not in list(set(coa_names_3)) or x==None else x)\n",
    "    # for egypt remove ocha names at level 3 because ocha didn't include these names\n",
    "    \n",
    "    # excluding progres v4 names \n",
    "    # df.loc[:,\"coa_l1\"] = df.progres_coalocationlevel1name.apply(lambda x: \"Unknown\" if x not in list(set(coa_names_1_ocha)) or x==None else x)\n",
    "    # df.loc[:,\"coa_l2\"] = df.progres_coalocationlevel2name.apply(lambda x: \"Unknown\" if x not in list(set(coa_names_2_ocha)) or x==None else x)\n",
    "    # df.loc[:,\"coa_l3\"] = df.progres_coalocationlevel3name.apply(lambda x: \"Unknown\" if x not in list(set(coa_names_3)) or x==None else x)\n",
    "   \n",
    "    return df"
   ]
  },
  {
   "cell_type": "code",
   "execution_count": 305,
   "metadata": {},
   "outputs": [
    {
     "data": {
      "text/plain": [
       "(290220, 58)"
      ]
     },
     "execution_count": 305,
     "metadata": {},
     "output_type": "execute_result"
    }
   ],
   "source": [
    "dfi = coa_classify_as_unknown(dfi)\n",
    "dfi.shape"
   ]
  },
  {
   "cell_type": "code",
   "execution_count": 319,
   "metadata": {},
   "outputs": [],
   "source": [
    "egy_level1= dfi[(dfi.coa_l1==\"Unknown\")&(dfi.progres_coalocationlevel1name!=None)].progres_coalocationlevel1name.unique().tolist()"
   ]
  },
  {
   "cell_type": "code",
   "execution_count": 320,
   "metadata": {},
   "outputs": [],
   "source": [
    "egy_level2= dfi[(dfi.coa_l2==\"Unknown\")&(dfi.progres_coalocationlevel2name!=None)].progres_coalocationlevel2name.unique().tolist()"
   ]
  },
  {
   "cell_type": "code",
   "execution_count": 321,
   "metadata": {},
   "outputs": [],
   "source": [
    "egy_level3= dfi[(dfi.coa_l3==\"Unknown\")&(dfi.progres_coalocationlevel3name!=None)].progres_coalocationlevel3name.unique().tolist()"
   ]
  },
  {
   "cell_type": "markdown",
   "metadata": {},
   "source": [
    "#### Syria Birth Cities"
   ]
  },
  {
   "cell_type": "code",
   "execution_count": 277,
   "metadata": {},
   "outputs": [],
   "source": [
    "birth_country_name = \"Syrian Arab Republic\"\n",
    "sy = dfi[(dfi.progres_placeofbirthidname==birth_country_name)&\n",
    "         (~dfi.progres_placeofbirthcity.isna())]"
   ]
  },
  {
   "cell_type": "code",
   "execution_count": 278,
   "metadata": {},
   "outputs": [
    {
     "name": "stderr",
     "output_type": "stream",
     "text": [
      "C:\\Users\\RIJAL\\Anaconda3\\envs\\phonenumber\\lib\\site-packages\\ipykernel_launcher.py:1: SettingWithCopyWarning: \n",
      "A value is trying to be set on a copy of a slice from a DataFrame.\n",
      "Try using .loc[row_indexer,col_indexer] = value instead\n",
      "\n",
      "See the caveats in the documentation: https://pandas.pydata.org/pandas-docs/stable/user_guide/indexing.html#returning-a-view-versus-a-copy\n",
      "  \"\"\"Entry point for launching an IPython kernel.\n"
     ]
    }
   ],
   "source": [
    "sy[\"birth_city_length\"] = sy[\"progres_placeofbirthcity\"].apply(lambda x: len(x) if x!=None else None)\n",
    "sy = sy[sy.birth_city_length>1]"
   ]
  },
  {
   "cell_type": "code",
   "execution_count": 280,
   "metadata": {},
   "outputs": [
    {
     "data": {
      "text/plain": [
       "4490    Latakia, Al-Hanadi Village\n",
       "Name: progres_placeofbirthcity, dtype: object"
      ]
     },
     "execution_count": 280,
     "metadata": {},
     "output_type": "execute_result"
    }
   ],
   "source": [
    "sy[sy.birth_city_length==26].progres_placeofbirthcity"
   ]
  },
  {
   "cell_type": "code",
   "execution_count": 281,
   "metadata": {},
   "outputs": [
    {
     "data": {
      "text/plain": [
       "array(['syr', 'UAE', 'Dam', 'Ale', 'dam', 'Hma', 'KSA', 'DAM', 'حمص',\n",
       "       'AL', 'SYR', 'HOS', 'sy', 'hom', 'ale', 'ksa', 'HAM', 'Bab', 'HOM',\n",
       "       'ARE', 'Da', 'حلب', 'dan'], dtype=object)"
      ]
     },
     "execution_count": 281,
     "metadata": {},
     "output_type": "execute_result"
    }
   ],
   "source": [
    "sy[sy.birth_city_length<=3].progres_placeofbirthcity.unique()"
   ]
  },
  {
   "cell_type": "code",
   "execution_count": 282,
   "metadata": {},
   "outputs": [],
   "source": [
    "sy[\"birth_city_language\"] = sy[\"progres_placeofbirthcity\"].apply(lambda x: detect(x) if x!=None else None) "
   ]
  },
  {
   "cell_type": "code",
   "execution_count": 283,
   "metadata": {},
   "outputs": [],
   "source": [
    "# Filter out birth cities listed in Arabic\n",
    "sy = sy[sy.birth_city_language!=\"ar\"]"
   ]
  },
  {
   "cell_type": "code",
   "execution_count": 284,
   "metadata": {},
   "outputs": [],
   "source": [
    "sy[\"birth_city\"] = sy[\"progres_placeofbirthcity\"].apply(lambda x: x.lower())\n",
    "sy[\"birth_city\"] = sy[\"birth_city\"].apply(lambda x: re.sub(r'[!@#$(),\\n\"%^*?\\:;~`\\d]', '', x) if x!=None else None)"
   ]
  },
  {
   "cell_type": "code",
   "execution_count": null,
   "metadata": {},
   "outputs": [],
   "source": [
    "sy.progres_placeofbirthcity.value_counts()[0:10]"
   ]
  },
  {
   "cell_type": "code",
   "execution_count": null,
   "metadata": {},
   "outputs": [],
   "source": [
    "sy.birth_city.value_counts()[0:10]"
   ]
  },
  {
   "cell_type": "code",
   "execution_count": 287,
   "metadata": {},
   "outputs": [],
   "source": [
    "orig_list_of_birth_cities = sy.birth_city.unique().tolist()"
   ]
  },
  {
   "cell_type": "code",
   "execution_count": 289,
   "metadata": {},
   "outputs": [
    {
     "data": {
      "text/plain": [
       "1160"
      ]
     },
     "execution_count": 289,
     "metadata": {},
     "output_type": "execute_result"
    }
   ],
   "source": [
    "len(orig_list_of_birth_cities)"
   ]
  },
  {
   "cell_type": "code",
   "execution_count": 288,
   "metadata": {},
   "outputs": [
    {
     "data": {
      "text/plain": [
       "[2,\n",
       " 3,\n",
       " 4,\n",
       " 5,\n",
       " 6,\n",
       " 7,\n",
       " 8,\n",
       " 9,\n",
       " 10,\n",
       " 11,\n",
       " 12,\n",
       " 13,\n",
       " 14,\n",
       " 15,\n",
       " 16,\n",
       " 17,\n",
       " 18,\n",
       " 19,\n",
       " 20,\n",
       " 21,\n",
       " 22,\n",
       " 25,\n",
       " 26]"
      ]
     },
     "execution_count": 288,
     "metadata": {},
     "output_type": "execute_result"
    }
   ],
   "source": [
    "city_len = []\n",
    "for city in orig_list_of_birth_cities:\n",
    "    city_len.append(len(city))\n",
    "list(set(city_len))"
   ]
  },
  {
   "cell_type": "markdown",
   "metadata": {},
   "source": [
    "#### Egypt Birth Cities"
   ]
  },
  {
   "cell_type": "code",
   "execution_count": 259,
   "metadata": {},
   "outputs": [
    {
     "data": {
      "text/plain": [
       "'ar'"
      ]
     },
     "execution_count": 259,
     "metadata": {},
     "output_type": "execute_result"
    }
   ],
   "source": [
    "detect(\"السويس\")"
   ]
  },
  {
   "cell_type": "code",
   "execution_count": 260,
   "metadata": {},
   "outputs": [
    {
     "data": {
      "text/plain": [
       "'ar'"
      ]
     },
     "execution_count": 260,
     "metadata": {},
     "output_type": "execute_result"
    }
   ],
   "source": [
    "detect(\"6 اكتوبر\")"
   ]
  },
  {
   "cell_type": "code",
   "execution_count": 261,
   "metadata": {},
   "outputs": [],
   "source": [
    "eg = dfi[(dfi.progres_placeofbirthidname==\"Egypt\")&\n",
    "         (~dfi.progres_placeofbirthcity.isna())]"
   ]
  },
  {
   "cell_type": "code",
   "execution_count": 262,
   "metadata": {},
   "outputs": [
    {
     "name": "stderr",
     "output_type": "stream",
     "text": [
      "C:\\Users\\RIJAL\\Anaconda3\\envs\\phonenumber\\lib\\site-packages\\ipykernel_launcher.py:1: SettingWithCopyWarning: \n",
      "A value is trying to be set on a copy of a slice from a DataFrame.\n",
      "Try using .loc[row_indexer,col_indexer] = value instead\n",
      "\n",
      "See the caveats in the documentation: https://pandas.pydata.org/pandas-docs/stable/user_guide/indexing.html#returning-a-view-versus-a-copy\n",
      "  \"\"\"Entry point for launching an IPython kernel.\n"
     ]
    }
   ],
   "source": [
    "eg[\"birth_city_length\"] = eg[\"progres_placeofbirthcity\"].apply(lambda x: len(x) if x!=None else None)\n",
    "eg = eg[eg.birth_city_length>1]"
   ]
  },
  {
   "cell_type": "code",
   "execution_count": 264,
   "metadata": {},
   "outputs": [
    {
     "data": {
      "text/plain": [
       "184457    Cairo -Saqr kurash - madenit Nasr \n",
       "Name: progres_placeofbirthcity, dtype: object"
      ]
     },
     "execution_count": 264,
     "metadata": {},
     "output_type": "execute_result"
    }
   ],
   "source": [
    "eg[eg.birth_city_length==34].progres_placeofbirthcity"
   ]
  },
  {
   "cell_type": "code",
   "execution_count": 265,
   "metadata": {},
   "outputs": [
    {
     "data": {
      "text/plain": [
       "array(['Dam', 'Egy', 'Aga', 'EGY', 'are', 'SUD', 'EGP', 'egy', 'مصر',\n",
       "       'ARE', 'dam', 'AGA', 'Giz', 'DAM'], dtype=object)"
      ]
     },
     "execution_count": 265,
     "metadata": {},
     "output_type": "execute_result"
    }
   ],
   "source": [
    "eg[eg.birth_city_length<=3].progres_placeofbirthcity.unique()"
   ]
  },
  {
   "cell_type": "code",
   "execution_count": 266,
   "metadata": {},
   "outputs": [],
   "source": [
    "eg[\"birth_city_language\"] = eg[\"progres_placeofbirthcity\"].apply(lambda x: detect(x) if x!=None else None) "
   ]
  },
  {
   "cell_type": "code",
   "execution_count": 267,
   "metadata": {},
   "outputs": [],
   "source": [
    "# Filter out birth cities listed in Arabic\n",
    "eg = eg[eg.birth_city_language!=\"ar\"]"
   ]
  },
  {
   "cell_type": "code",
   "execution_count": 270,
   "metadata": {},
   "outputs": [],
   "source": [
    "eg[\"birth_city\"] = eg[\"progres_placeofbirthcity\"].apply(lambda x: x.lower())\n",
    "eg[\"birth_city\"] = eg[\"birth_city\"].apply(lambda x: re.sub(r'[!@#$(),\\n\"%^*?\\:;~`\\d]', '', x) if x!=None else None)"
   ]
  },
  {
   "cell_type": "code",
   "execution_count": null,
   "metadata": {},
   "outputs": [],
   "source": [
    "eg.progres_placeofbirthcity.value_counts()[0:10]"
   ]
  },
  {
   "cell_type": "code",
   "execution_count": null,
   "metadata": {},
   "outputs": [],
   "source": [
    "eg.birth_city.value_counts()[0:10]"
   ]
  },
  {
   "cell_type": "code",
   "execution_count": 273,
   "metadata": {},
   "outputs": [],
   "source": [
    "egypt_birth_cities = eg.birth_city.unique().tolist()"
   ]
  },
  {
   "cell_type": "code",
   "execution_count": 274,
   "metadata": {},
   "outputs": [],
   "source": [
    "# egypt_birth_cities.remove('/')\n",
    "# egypt_birth_cities.remove('مصر')"
   ]
  },
  {
   "cell_type": "markdown",
   "metadata": {},
   "source": [
    "## B.3. Call find_substitute function on Egypt/Syria list of locations against official list"
   ]
  },
  {
   "cell_type": "code",
   "execution_count": 509,
   "metadata": {},
   "outputs": [],
   "source": [
    "For example: \n",
    "metaphone_egypt_correct_birth_ocha1 = find_substitute(egypt_birth_cities, coa_names_1_ocha, \"metaphone\")"
   ]
  },
  {
   "cell_type": "code",
   "execution_count": 518,
   "metadata": {},
   "outputs": [],
   "source": [
    "soundex_egypt_correct_birth_ocha1 = find_substitute(egypt_birth_cities, coa_names_1_ocha, \"soundex\")"
   ]
  }
 ],
 "metadata": {
  "kernelspec": {
   "display_name": "phonenumber",
   "language": "python",
   "name": "phonenumber"
  },
  "language_info": {
   "codemirror_mode": {
    "name": "ipython",
    "version": 3
   },
   "file_extension": ".py",
   "mimetype": "text/x-python",
   "name": "python",
   "nbconvert_exporter": "python",
   "pygments_lexer": "ipython3",
   "version": "3.7.13"
  }
 },
 "nbformat": 4,
 "nbformat_minor": 4
}
